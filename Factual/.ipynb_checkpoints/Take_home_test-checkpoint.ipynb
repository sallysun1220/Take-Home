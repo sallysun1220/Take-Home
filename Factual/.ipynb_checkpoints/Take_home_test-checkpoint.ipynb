{
 "cells": [
  {
   "cell_type": "code",
   "execution_count": 1,
   "metadata": {
    "collapsed": true
   },
   "outputs": [],
   "source": [
    "import json\n",
    "from collections import OrderedDict\n",
    "import matplotlib.pyplot as plt\n",
    "import numpy as np\n",
    "%matplotlib inline\n",
    "import re"
   ]
  },
  {
   "cell_type": "markdown",
   "metadata": {},
   "source": [
    "## Read json file"
   ]
  },
  {
   "cell_type": "code",
   "execution_count": 2,
   "metadata": {
    "collapsed": true
   },
   "outputs": [],
   "source": [
    "import json\n",
    "\n",
    "j_list = []\n",
    "with open(\"data.json\") as f:\n",
    "    for line in f:\n",
    "        j_content = json.loads(line)\n",
    "        j_list.append(j_content)\n",
    "#print (j_list)"
   ]
  },
  {
   "cell_type": "code",
   "execution_count": 3,
   "metadata": {},
   "outputs": [
    {
     "data": {
      "text/plain": [
       "538"
      ]
     },
     "execution_count": 3,
     "metadata": {},
     "output_type": "execute_result"
    }
   ],
   "source": [
    "len(j_list)"
   ]
  },
  {
   "cell_type": "markdown",
   "metadata": {},
   "source": [
    "## 1. Return every unique locality (cf. city) along with how often it occurs"
   ]
  },
  {
   "cell_type": "code",
   "execution_count": 4,
   "metadata": {},
   "outputs": [
    {
     "name": "stdout",
     "output_type": "stream",
     "text": [
      "Result has been stored in Q1_ans.json\n"
     ]
    }
   ],
   "source": [
    "city = {}\n",
    "total_num = 0\n",
    "for i in range(len(j_list)):\n",
    "    if not j_list[i]['payload']:\n",
    "        continue\n",
    "    total_num += 1\n",
    "    name = j_list[i]['payload']['country'] + '-' + j_list[i]['payload']['locality']\n",
    "    city[name] = city.get(name, 0) + 1\n",
    "    \n",
    "for key, value in city.items():\n",
    "    city[key] = value/total_num  # normalize the occurrence times for each unique city \n",
    "    #print (key, city[key])\n",
    "print ('Result has been stored in Q1_ans.json')"
   ]
  },
  {
   "cell_type": "code",
   "execution_count": 5,
   "metadata": {
    "collapsed": true
   },
   "outputs": [],
   "source": [
    "json = json.dumps(city)\n",
    "f = open(\"Q1_ans.json\",\"w\")\n",
    "f.write(json)\n",
    "f.close()"
   ]
  },
  {
   "cell_type": "code",
   "execution_count": 47,
   "metadata": {},
   "outputs": [],
   "source": [
    "# Here is the result:\n",
    "#city"
   ]
  },
  {
   "cell_type": "code",
   "execution_count": 32,
   "metadata": {},
   "outputs": [
    {
     "data": {
      "image/png": "[encoded data removed]",
      "text/plain": [
       "<matplotlib.figure.Figure at 0x10c632dd8>"
      ]
     },
     "metadata": {},
     "output_type": "display_data"
    }
   ],
   "source": [
    "sorted_city = sorted(list(city.keys()))\n",
    "plt.figure(figsize=(20,5))\n",
    "plt.bar(range(len(city)), [city[x] for x in sorted_city], color='g')\n",
    "plt.xticks(range(0,len(city),20),sorted_city[::20])\n",
    "plt.ylabel('Probability')\n",
    "plt.xlabel('City')\n",
    "plt.title('Distribution for City Occurrence')\n",
    "plt.show()"
   ]
  },
  {
   "cell_type": "markdown",
   "metadata": {},
   "source": [
    "## 2. Return all addresses that start with a number (return just the address)"
   ]
  },
  {
   "cell_type": "code",
   "execution_count": 33,
   "metadata": {
    "collapsed": true
   },
   "outputs": [],
   "source": [
    "addresses = []\n",
    "total_num = 0\n",
    "for i in range(len(j_list)):\n",
    "    if not j_list[i]['payload']:\n",
    "        continue\n",
    "    if 'address' not in j_list[i]['payload']:\n",
    "        continue\n",
    "    total_num += 1\n",
    "    address = j_list[i]['payload']['address'].strip()\n",
    "    if not address:\n",
    "        continue\n",
    "    if(re.search('[0-9]', address[0])):\n",
    "        addresses.append(address)"
   ]
  },
  {
   "cell_type": "code",
   "execution_count": 34,
   "metadata": {
    "collapsed": true
   },
   "outputs": [],
   "source": [
    "import json\n",
    "my_json_string = json.dumps(addresses)\n",
    "f = open(\"Q2_ans.json\",\"w\")\n",
    "f.write(my_json_string)\n",
    "f.close()"
   ]
  },
  {
   "cell_type": "code",
   "execution_count": 35,
   "metadata": {},
   "outputs": [
    {
     "name": "stdout",
     "output_type": "stream",
     "text": [
      "Result has been stored in Q2_ans.json\n"
     ]
    }
   ],
   "source": [
    "print ('Result has been stored in Q2_ans.json')"
   ]
  },
  {
   "cell_type": "markdown",
   "metadata": {},
   "source": [
    "## 3. Return all rows with addresses that don't contain a number (return the entire row)"
   ]
  },
  {
   "cell_type": "code",
   "execution_count": 15,
   "metadata": {
    "collapsed": true
   },
   "outputs": [],
   "source": [
    "rows = []\n",
    "for i in range(len(j_list)):\n",
    "    if not j_list[i]['payload']:\n",
    "        continue\n",
    "    if 'address' not in j_list[i]['payload']:\n",
    "        continue\n",
    "    address = j_list[i]['payload']['address'].strip()\n",
    "    if not address:\n",
    "        continue\n",
    "    if(re.search('[0-9]', address)):\n",
    "        #addresses.append(re.sub ('[0-9]|-|/', '', address).strip())\n",
    "        continue\n",
    "    else:\n",
    "        #print (address)\n",
    "        rows.append(j_list[i])"
   ]
  },
  {
   "cell_type": "code",
   "execution_count": 46,
   "metadata": {},
   "outputs": [],
   "source": [
    "#rows"
   ]
  },
  {
   "cell_type": "code",
   "execution_count": 17,
   "metadata": {
    "collapsed": true
   },
   "outputs": [],
   "source": [
    "my_json_string = json.dumps(rows)\n",
    "f = open(\"Q3_ans.json\",\"w\")\n",
    "f.write(my_json_string)\n",
    "f.close()"
   ]
  },
  {
   "cell_type": "code",
   "execution_count": 18,
   "metadata": {},
   "outputs": [
    {
     "name": "stdout",
     "output_type": "stream",
     "text": [
      "Result has been stored in Q3_ans.json\n"
     ]
    }
   ],
   "source": [
    "print ('Result has been stored in Q3_ans.json')"
   ]
  },
  {
   "cell_type": "markdown",
   "metadata": {},
   "source": [
    "## 4. Return the number of records that are museums"
   ]
  },
  {
   "cell_type": "code",
   "execution_count": 19,
   "metadata": {},
   "outputs": [
    {
     "name": "stdout",
     "output_type": "stream",
     "text": [
      "The number of records that are museums:  72\n"
     ]
    }
   ],
   "source": [
    "count = 0\n",
    "for i in range(len(j_list)):\n",
    "    if not j_list[i]['payload']:\n",
    "        continue\n",
    "    if 'category_labels' not in j_list[i]['payload']:\n",
    "        continue\n",
    "    if re.search('museums', ''.join(j_list[i]['payload']['category_labels'][0]).lower()):\n",
    "        count += 1\n",
    "        \n",
    "print ('The number of records that are museums: ',count)"
   ]
  },
  {
   "cell_type": "code",
   "execution_count": 20,
   "metadata": {
    "collapsed": true
   },
   "outputs": [],
   "source": [
    "my_json_string = json.dumps(count)\n",
    "f = open(\"Q4_ans.json\",\"w\")\n",
    "f.write(my_json_string)\n",
    "f.close()"
   ]
  },
  {
   "cell_type": "code",
   "execution_count": 21,
   "metadata": {},
   "outputs": [
    {
     "name": "stdout",
     "output_type": "stream",
     "text": [
      "Result has been stored in Q4_ans.json\n"
     ]
    }
   ],
   "source": [
    "print ('Result has been stored in Q4_ans.json')"
   ]
  },
  {
   "cell_type": "markdown",
   "metadata": {},
   "source": [
    "## 5. Return a new object containing uuid, name, website, and email address for all rows that have values for all four of these attributes; exclude any rows that don’t have all four"
   ]
  },
  {
   "cell_type": "code",
   "execution_count": 22,
   "metadata": {
    "collapsed": true
   },
   "outputs": [],
   "source": [
    "record = []\n",
    "dic = {}\n",
    "for i in range(len(j_list)):\n",
    "    if 'uuid' not in j_list[i] or 'payload' not in j_list[i]:\n",
    "        continue\n",
    "    \n",
    "    if {'name','website','email'}.issubset(j_list[i]['payload']) == False:\n",
    "        continue\n",
    "    \n",
    "    dic['uuid'] = j_list[i]['uuid']\n",
    "    dic['name'] = j_list[i]['payload']['name']\n",
    "    dic['website'] = j_list[i]['payload']['website']\n",
    "    dic['email_address'] = j_list[i]['payload']['email']\n",
    "    \n",
    "    record.append(dic)"
   ]
  },
  {
   "cell_type": "code",
   "execution_count": 23,
   "metadata": {},
   "outputs": [
    {
     "data": {
      "text/plain": [
       "447"
      ]
     },
     "execution_count": 23,
     "metadata": {},
     "output_type": "execute_result"
    }
   ],
   "source": [
    "len(record)"
   ]
  },
  {
   "cell_type": "code",
   "execution_count": 24,
   "metadata": {
    "collapsed": true
   },
   "outputs": [],
   "source": [
    "my_json_string = json.dumps(record)\n",
    "f = open(\"Q5_ans.json\",\"w\")\n",
    "f.write(my_json_string)\n",
    "f.close()"
   ]
  },
  {
   "cell_type": "code",
   "execution_count": 25,
   "metadata": {},
   "outputs": [
    {
     "name": "stdout",
     "output_type": "stream",
     "text": [
      "Result has been stored in Q5_ans.json\n"
     ]
    }
   ],
   "source": [
    "print ('Result has been stored in Q5_ans.json')"
   ]
  },
  {
   "cell_type": "markdown",
   "metadata": {},
   "source": [
    "## 6. Return all rows, but transform the names to all lower case while changing nothing else"
   ]
  },
  {
   "cell_type": "code",
   "execution_count": 26,
   "metadata": {
    "collapsed": true
   },
   "outputs": [],
   "source": [
    "import copy\n",
    "j_list_copy = j_list.copy()\n",
    "for i in range(len(j_list_copy)):\n",
    "    if 'payload' not in j_list_copy[i]:\n",
    "        continue\n",
    "    if 'name' not in j_list_copy[i]['payload']:\n",
    "        continue\n",
    "    j_list_copy[i]['payload']['name'] = j_list_copy[i]['payload']['name'].lower()"
   ]
  },
  {
   "cell_type": "code",
   "execution_count": 27,
   "metadata": {
    "collapsed": true
   },
   "outputs": [],
   "source": [
    "my_json_string = json.dumps(j_list_copy)\n",
    "f = open(\"Q6_ans.json\",\"w\")\n",
    "f.write(my_json_string)\n",
    "f.close()"
   ]
  },
  {
   "cell_type": "code",
   "execution_count": 28,
   "metadata": {},
   "outputs": [
    {
     "name": "stdout",
     "output_type": "stream",
     "text": [
      "Result has been stored in Q6_ans.json\n"
     ]
    }
   ],
   "source": [
    "print ('Result has been stored in Q6_ans.json')"
   ]
  },
  {
   "cell_type": "markdown",
   "metadata": {},
   "source": [
    "## 7.Return all rows for businesses that open before 10:00 a.m. on Sundays"
   ]
  },
  {
   "cell_type": "code",
   "execution_count": 42,
   "metadata": {
    "collapsed": true
   },
   "outputs": [],
   "source": [
    "record = []\n",
    "for i in range(len(j_list)):\n",
    "    if 'payload' not in j_list[i]:\n",
    "        continue\n",
    "    if 'hours' not in j_list[i]['payload']:\n",
    "        continue\n",
    "        \n",
    "    hours = json.loads(j_list[i]['payload']['hours'])\n",
    "    \n",
    "    if 'sunday' in hours:\n",
    "        check = False\n",
    "        for item in hours['sunday']:\n",
    "            for s in item:\n",
    "                if re.search(r'^([0-9]):[0-9][0-9]',s) or re.search(r'^([0][0-9]):[0-9][0-9]',s):\n",
    "                    check = True\n",
    "        if check:\n",
    "            record.append(j_list[i])\n"
   ]
  },
  {
   "cell_type": "code",
   "execution_count": 43,
   "metadata": {
    "collapsed": true
   },
   "outputs": [],
   "source": [
    "my_json_string = json.dumps(record)\n",
    "f = open(\"Q7_ans.json\",\"w\")\n",
    "f.write(my_json_string)\n",
    "f.close()"
   ]
  },
  {
   "cell_type": "code",
   "execution_count": 44,
   "metadata": {},
   "outputs": [
    {
     "name": "stdout",
     "output_type": "stream",
     "text": [
      "Result has been stored in Q7_ans.json\n"
     ]
    }
   ],
   "source": [
    "print ('Result has been stored in Q7_ans.json')"
   ]
  },
  {
   "cell_type": "code",
   "execution_count": 45,
   "metadata": {},
   "outputs": [
    {
     "data": {
      "text/plain": [
       "100"
      ]
     },
     "execution_count": 45,
     "metadata": {},
     "output_type": "execute_result"
    }
   ],
   "source": [
    "len(record)"
   ]
  },
  {
   "cell_type": "code",
   "execution_count": null,
   "metadata": {
    "collapsed": true
   },
   "outputs": [],
   "source": []
  }
 ],
 "metadata": {
  "kernelspec": {
   "display_name": "Python 3",
   "language": "python",
   "name": "python3"
  },
  "language_info": {
   "codemirror_mode": {
    "name": "ipython",
    "version": 3
   },
   "file_extension": ".py",
   "mimetype": "text/x-python",
   "name": "python",
   "nbconvert_exporter": "python",
   "pygments_lexer": "ipython3",
   "version": "3.6.1"
  }
 },
 "nbformat": 4,
 "nbformat_minor": 2
}
